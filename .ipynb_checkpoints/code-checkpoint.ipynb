{
 "cells": [
  {
   "cell_type": "code",
   "execution_count": 1,
   "id": "ce0c4ae2",
   "metadata": {},
   "outputs": [],
   "source": [
    "import numpy as np\n",
    "import pandas as pd\n",
    "import scipy as sc\n",
    "\n",
    "import matplotlib.pyplot as plt\n",
    "import seaborn as sns\n",
    "\n",
    "plt.style.use('fivethirtyeight')\n"
   ]
  },
  {
   "cell_type": "code",
   "execution_count": 2,
   "id": "12e4f4ef",
   "metadata": {},
   "outputs": [],
   "source": [
    "users = pd.read_csv('users.dat', sep='::', engine='python', \n",
    "                   names=['user_id','twitter_id'])"
   ]
  },
  {
   "cell_type": "code",
   "execution_count": 3,
   "id": "9bb5f9c3",
   "metadata": {},
   "outputs": [
    {
     "data": {
      "text/html": [
       "<div>\n",
       "<style scoped>\n",
       "    .dataframe tbody tr th:only-of-type {\n",
       "        vertical-align: middle;\n",
       "    }\n",
       "\n",
       "    .dataframe tbody tr th {\n",
       "        vertical-align: top;\n",
       "    }\n",
       "\n",
       "    .dataframe thead th {\n",
       "        text-align: right;\n",
       "    }\n",
       "</style>\n",
       "<table border=\"1\" class=\"dataframe\">\n",
       "  <thead>\n",
       "    <tr style=\"text-align: right;\">\n",
       "      <th></th>\n",
       "      <th>user_id</th>\n",
       "      <th>twitter_id</th>\n",
       "    </tr>\n",
       "  </thead>\n",
       "  <tbody>\n",
       "    <tr>\n",
       "      <th>0</th>\n",
       "      <td>1</td>\n",
       "      <td>139564917</td>\n",
       "    </tr>\n",
       "    <tr>\n",
       "      <th>1</th>\n",
       "      <td>2</td>\n",
       "      <td>17528189</td>\n",
       "    </tr>\n",
       "    <tr>\n",
       "      <th>2</th>\n",
       "      <td>3</td>\n",
       "      <td>522540374</td>\n",
       "    </tr>\n",
       "    <tr>\n",
       "      <th>3</th>\n",
       "      <td>4</td>\n",
       "      <td>475571186</td>\n",
       "    </tr>\n",
       "    <tr>\n",
       "      <th>4</th>\n",
       "      <td>5</td>\n",
       "      <td>215022153</td>\n",
       "    </tr>\n",
       "  </tbody>\n",
       "</table>\n",
       "</div>"
      ],
      "text/plain": [
       "   user_id  twitter_id\n",
       "0        1   139564917\n",
       "1        2    17528189\n",
       "2        3   522540374\n",
       "3        4   475571186\n",
       "4        5   215022153"
      ]
     },
     "execution_count": 3,
     "metadata": {},
     "output_type": "execute_result"
    }
   ],
   "source": [
    "users.head()"
   ]
  },
  {
   "cell_type": "code",
   "execution_count": 4,
   "id": "f18662ff",
   "metadata": {},
   "outputs": [],
   "source": [
    "movies = pd.read_csv('movies.dat', sep='::', engine='python',\n",
    "                    names=['movie_id', 'movie_title', 'genre'])"
   ]
  },
  {
   "cell_type": "code",
   "execution_count": 5,
   "id": "4997d29d",
   "metadata": {},
   "outputs": [
    {
     "data": {
      "text/html": [
       "<div>\n",
       "<style scoped>\n",
       "    .dataframe tbody tr th:only-of-type {\n",
       "        vertical-align: middle;\n",
       "    }\n",
       "\n",
       "    .dataframe tbody tr th {\n",
       "        vertical-align: top;\n",
       "    }\n",
       "\n",
       "    .dataframe thead th {\n",
       "        text-align: right;\n",
       "    }\n",
       "</style>\n",
       "<table border=\"1\" class=\"dataframe\">\n",
       "  <thead>\n",
       "    <tr style=\"text-align: right;\">\n",
       "      <th></th>\n",
       "      <th>movie_id</th>\n",
       "      <th>movie_title</th>\n",
       "      <th>genre</th>\n",
       "    </tr>\n",
       "  </thead>\n",
       "  <tbody>\n",
       "    <tr>\n",
       "      <th>0</th>\n",
       "      <td>8</td>\n",
       "      <td>Edison Kinetoscopic Record of a Sneeze (1894)</td>\n",
       "      <td>Documentary|Short</td>\n",
       "    </tr>\n",
       "    <tr>\n",
       "      <th>1</th>\n",
       "      <td>10</td>\n",
       "      <td>La sortie des usines Lumière (1895)</td>\n",
       "      <td>Documentary|Short</td>\n",
       "    </tr>\n",
       "    <tr>\n",
       "      <th>2</th>\n",
       "      <td>12</td>\n",
       "      <td>The Arrival of a Train (1896)</td>\n",
       "      <td>Documentary|Short</td>\n",
       "    </tr>\n",
       "    <tr>\n",
       "      <th>3</th>\n",
       "      <td>25</td>\n",
       "      <td>The Oxford and Cambridge University Boat Race ...</td>\n",
       "      <td>NaN</td>\n",
       "    </tr>\n",
       "    <tr>\n",
       "      <th>4</th>\n",
       "      <td>91</td>\n",
       "      <td>Le manoir du diable (1896)</td>\n",
       "      <td>Short|Horror</td>\n",
       "    </tr>\n",
       "  </tbody>\n",
       "</table>\n",
       "</div>"
      ],
      "text/plain": [
       "   movie_id                                        movie_title  \\\n",
       "0         8      Edison Kinetoscopic Record of a Sneeze (1894)   \n",
       "1        10                La sortie des usines Lumière (1895)   \n",
       "2        12                      The Arrival of a Train (1896)   \n",
       "3        25  The Oxford and Cambridge University Boat Race ...   \n",
       "4        91                         Le manoir du diable (1896)   \n",
       "\n",
       "               genre  \n",
       "0  Documentary|Short  \n",
       "1  Documentary|Short  \n",
       "2  Documentary|Short  \n",
       "3                NaN  \n",
       "4       Short|Horror  "
      ]
     },
     "execution_count": 5,
     "metadata": {},
     "output_type": "execute_result"
    }
   ],
   "source": [
    "movies.head()"
   ]
  },
  {
   "cell_type": "code",
   "execution_count": 6,
   "id": "0329d239",
   "metadata": {},
   "outputs": [],
   "source": [
    "ratings = pd.read_csv('ratings.dat', sep='::', engine='python', \n",
    "                     names=['user_id','movie_id', 'rating', 'rating_timestamp']\n",
    "                     ).sort_values(\"rating_timestamp\")"
   ]
  },
  {
   "cell_type": "code",
   "execution_count": 7,
   "id": "a7cecfa5",
   "metadata": {},
   "outputs": [
    {
     "data": {
      "text/html": [
       "<div>\n",
       "<style scoped>\n",
       "    .dataframe tbody tr th:only-of-type {\n",
       "        vertical-align: middle;\n",
       "    }\n",
       "\n",
       "    .dataframe tbody tr th {\n",
       "        vertical-align: top;\n",
       "    }\n",
       "\n",
       "    .dataframe thead th {\n",
       "        text-align: right;\n",
       "    }\n",
       "</style>\n",
       "<table border=\"1\" class=\"dataframe\">\n",
       "  <thead>\n",
       "    <tr style=\"text-align: right;\">\n",
       "      <th></th>\n",
       "      <th>user_id</th>\n",
       "      <th>movie_id</th>\n",
       "      <th>rating</th>\n",
       "      <th>rating_timestamp</th>\n",
       "    </tr>\n",
       "  </thead>\n",
       "  <tbody>\n",
       "    <tr>\n",
       "      <th>147805</th>\n",
       "      <td>11639</td>\n",
       "      <td>2171847</td>\n",
       "      <td>6</td>\n",
       "      <td>1362062307</td>\n",
       "    </tr>\n",
       "    <tr>\n",
       "      <th>613758</th>\n",
       "      <td>48189</td>\n",
       "      <td>444778</td>\n",
       "      <td>8</td>\n",
       "      <td>1362062624</td>\n",
       "    </tr>\n",
       "    <tr>\n",
       "      <th>641371</th>\n",
       "      <td>50219</td>\n",
       "      <td>1411238</td>\n",
       "      <td>6</td>\n",
       "      <td>1362062838</td>\n",
       "    </tr>\n",
       "    <tr>\n",
       "      <th>679235</th>\n",
       "      <td>52967</td>\n",
       "      <td>1496422</td>\n",
       "      <td>7</td>\n",
       "      <td>1362063503</td>\n",
       "    </tr>\n",
       "    <tr>\n",
       "      <th>779780</th>\n",
       "      <td>61176</td>\n",
       "      <td>118799</td>\n",
       "      <td>5</td>\n",
       "      <td>1362063653</td>\n",
       "    </tr>\n",
       "  </tbody>\n",
       "</table>\n",
       "</div>"
      ],
      "text/plain": [
       "        user_id  movie_id  rating  rating_timestamp\n",
       "147805    11639   2171847       6        1362062307\n",
       "613758    48189    444778       8        1362062624\n",
       "641371    50219   1411238       6        1362062838\n",
       "679235    52967   1496422       7        1362063503\n",
       "779780    61176    118799       5        1362063653"
      ]
     },
     "execution_count": 7,
     "metadata": {},
     "output_type": "execute_result"
    }
   ],
   "source": [
    "ratings.head()"
   ]
  },
  {
   "cell_type": "code",
   "execution_count": 8,
   "id": "29653f1a",
   "metadata": {},
   "outputs": [],
   "source": [
    "ratings[\"rating_timestamp\"] = pd.to_datetime(ratings[\"rating_timestamp\"], unit='s')"
   ]
  },
  {
   "cell_type": "code",
   "execution_count": 9,
   "id": "febcb2c3",
   "metadata": {},
   "outputs": [
    {
     "data": {
      "text/html": [
       "<div>\n",
       "<style scoped>\n",
       "    .dataframe tbody tr th:only-of-type {\n",
       "        vertical-align: middle;\n",
       "    }\n",
       "\n",
       "    .dataframe tbody tr th {\n",
       "        vertical-align: top;\n",
       "    }\n",
       "\n",
       "    .dataframe thead th {\n",
       "        text-align: right;\n",
       "    }\n",
       "</style>\n",
       "<table border=\"1\" class=\"dataframe\">\n",
       "  <thead>\n",
       "    <tr style=\"text-align: right;\">\n",
       "      <th></th>\n",
       "      <th>user_id</th>\n",
       "      <th>movie_id</th>\n",
       "      <th>rating</th>\n",
       "      <th>rating_timestamp</th>\n",
       "    </tr>\n",
       "  </thead>\n",
       "  <tbody>\n",
       "    <tr>\n",
       "      <th>147805</th>\n",
       "      <td>11639</td>\n",
       "      <td>2171847</td>\n",
       "      <td>6</td>\n",
       "      <td>2013-02-28 14:38:27</td>\n",
       "    </tr>\n",
       "    <tr>\n",
       "      <th>613758</th>\n",
       "      <td>48189</td>\n",
       "      <td>444778</td>\n",
       "      <td>8</td>\n",
       "      <td>2013-02-28 14:43:44</td>\n",
       "    </tr>\n",
       "    <tr>\n",
       "      <th>641371</th>\n",
       "      <td>50219</td>\n",
       "      <td>1411238</td>\n",
       "      <td>6</td>\n",
       "      <td>2013-02-28 14:47:18</td>\n",
       "    </tr>\n",
       "    <tr>\n",
       "      <th>679235</th>\n",
       "      <td>52967</td>\n",
       "      <td>1496422</td>\n",
       "      <td>7</td>\n",
       "      <td>2013-02-28 14:58:23</td>\n",
       "    </tr>\n",
       "    <tr>\n",
       "      <th>779780</th>\n",
       "      <td>61176</td>\n",
       "      <td>118799</td>\n",
       "      <td>5</td>\n",
       "      <td>2013-02-28 15:00:53</td>\n",
       "    </tr>\n",
       "  </tbody>\n",
       "</table>\n",
       "</div>"
      ],
      "text/plain": [
       "        user_id  movie_id  rating    rating_timestamp\n",
       "147805    11639   2171847       6 2013-02-28 14:38:27\n",
       "613758    48189    444778       8 2013-02-28 14:43:44\n",
       "641371    50219   1411238       6 2013-02-28 14:47:18\n",
       "679235    52967   1496422       7 2013-02-28 14:58:23\n",
       "779780    61176    118799       5 2013-02-28 15:00:53"
      ]
     },
     "execution_count": 9,
     "metadata": {},
     "output_type": "execute_result"
    }
   ],
   "source": [
    "ratings.head()"
   ]
  },
  {
   "cell_type": "code",
   "execution_count": 10,
   "id": "299afc3c",
   "metadata": {},
   "outputs": [
    {
     "data": {
      "text/plain": [
       "8     222146\n",
       "7     206680\n",
       "9     130106\n",
       "6     120370\n",
       "10    108351\n",
       "5      69747\n",
       "4      28193\n",
       "3      15487\n",
       "1      10814\n",
       "2       9223\n",
       "0        281\n",
       "Name: rating, dtype: int64"
      ]
     },
     "execution_count": 10,
     "metadata": {},
     "output_type": "execute_result"
    }
   ],
   "source": [
    "ratings['rating'].value_counts()"
   ]
  },
  {
   "cell_type": "code",
   "execution_count": 11,
   "id": "9628f57d",
   "metadata": {},
   "outputs": [
    {
     "data": {
      "text/plain": [
       "count    921398.000000\n",
       "mean          7.312627\n",
       "std           1.852559\n",
       "min           0.000000\n",
       "25%           6.000000\n",
       "50%           7.000000\n",
       "75%           9.000000\n",
       "max          10.000000\n",
       "Name: rating, dtype: float64"
      ]
     },
     "execution_count": 11,
     "metadata": {},
     "output_type": "execute_result"
    }
   ],
   "source": [
    "ratings['rating'].describe()"
   ]
  },
  {
   "cell_type": "code",
   "execution_count": 12,
   "id": "7458ef68",
   "metadata": {
    "scrolled": false
   },
   "outputs": [
    {
     "data": {
      "text/plain": [
       "<AxesSubplot:>"
      ]
     },
     "execution_count": 12,
     "metadata": {},
     "output_type": "execute_result"
    },
    {
     "data": {
      "image/png": "[encoded data removed]",
      "text/plain": [
       "<Figure size 640x480 with 1 Axes>"
      ]
     },
     "metadata": {},
     "output_type": "display_data"
    }
   ],
   "source": [
    "ratings['rating'].hist(bins=10)"
   ]
  },
  {
   "cell_type": "code",
   "execution_count": 13,
   "id": "dca8bd51",
   "metadata": {},
   "outputs": [
    {
     "data": {
      "text/plain": [
       "<AxesSubplot:>"
      ]
     },
     "execution_count": 13,
     "metadata": {},
     "output_type": "execute_result"
    },
    {
     "data": {
      "image/png": "[encoded data removed]",
      "text/plain": [
       "<Figure size 640x480 with 1 Axes>"
      ]
     },
     "metadata": {},
     "output_type": "display_data"
    }
   ],
   "source": [
    "ratings['rating'].hist(bins=30)"
   ]
  },
  {
   "cell_type": "code",
   "execution_count": 19,
   "id": "45b6dfcb",
   "metadata": {},
   "outputs": [
    {
     "name": "stdout",
     "output_type": "stream",
     "text": [
      "you have 71707 unique user ids\n"
     ]
    }
   ],
   "source": [
    "print(f\"you have {len(users.user_id.unique())} unique user ids\")"
   ]
  },
  {
   "cell_type": "code",
   "execution_count": 20,
   "id": "fb8b22ab",
   "metadata": {},
   "outputs": [
    {
     "data": {
      "text/plain": [
       "count    71707.000000\n",
       "mean        12.849485\n",
       "std         45.557594\n",
       "min          1.000000\n",
       "25%          1.000000\n",
       "50%          2.000000\n",
       "75%          7.000000\n",
       "max       2875.000000\n",
       "Name: user_id, dtype: float64"
      ]
     },
     "execution_count": 20,
     "metadata": {},
     "output_type": "execute_result"
    }
   ],
   "source": [
    "ratings.user_id.value_counts().describe()"
   ]
  },
  {
   "cell_type": "code",
   "execution_count": 22,
   "id": "8eb80a5a",
   "metadata": {},
   "outputs": [
    {
     "data": {
      "text/html": [
       "<div>\n",
       "<style scoped>\n",
       "    .dataframe tbody tr th:only-of-type {\n",
       "        vertical-align: middle;\n",
       "    }\n",
       "\n",
       "    .dataframe tbody tr th {\n",
       "        vertical-align: top;\n",
       "    }\n",
       "\n",
       "    .dataframe thead th {\n",
       "        text-align: right;\n",
       "    }\n",
       "</style>\n",
       "<table border=\"1\" class=\"dataframe\">\n",
       "  <thead>\n",
       "    <tr style=\"text-align: right;\">\n",
       "      <th></th>\n",
       "      <th>user_id</th>\n",
       "      <th>movie_id</th>\n",
       "      <th>rating</th>\n",
       "      <th>rating_timestamp</th>\n",
       "    </tr>\n",
       "  </thead>\n",
       "  <tbody>\n",
       "    <tr>\n",
       "      <th>147805</th>\n",
       "      <td>11639</td>\n",
       "      <td>2171847</td>\n",
       "      <td>6</td>\n",
       "      <td>2013-02-28 14:38:27</td>\n",
       "    </tr>\n",
       "    <tr>\n",
       "      <th>613758</th>\n",
       "      <td>48189</td>\n",
       "      <td>444778</td>\n",
       "      <td>8</td>\n",
       "      <td>2013-02-28 14:43:44</td>\n",
       "    </tr>\n",
       "    <tr>\n",
       "      <th>641371</th>\n",
       "      <td>50219</td>\n",
       "      <td>1411238</td>\n",
       "      <td>6</td>\n",
       "      <td>2013-02-28 14:47:18</td>\n",
       "    </tr>\n",
       "    <tr>\n",
       "      <th>679235</th>\n",
       "      <td>52967</td>\n",
       "      <td>1496422</td>\n",
       "      <td>7</td>\n",
       "      <td>2013-02-28 14:58:23</td>\n",
       "    </tr>\n",
       "    <tr>\n",
       "      <th>779780</th>\n",
       "      <td>61176</td>\n",
       "      <td>118799</td>\n",
       "      <td>5</td>\n",
       "      <td>2013-02-28 15:00:53</td>\n",
       "    </tr>\n",
       "    <tr>\n",
       "      <th>779802</th>\n",
       "      <td>61176</td>\n",
       "      <td>338013</td>\n",
       "      <td>4</td>\n",
       "      <td>2013-02-28 15:04:39</td>\n",
       "    </tr>\n",
       "    <tr>\n",
       "      <th>18077</th>\n",
       "      <td>1245</td>\n",
       "      <td>1003052</td>\n",
       "      <td>8</td>\n",
       "      <td>2013-02-28 15:05:06</td>\n",
       "    </tr>\n",
       "    <tr>\n",
       "      <th>779723</th>\n",
       "      <td>61176</td>\n",
       "      <td>64665</td>\n",
       "      <td>8</td>\n",
       "      <td>2013-02-28 15:07:27</td>\n",
       "    </tr>\n",
       "    <tr>\n",
       "      <th>280088</th>\n",
       "      <td>22092</td>\n",
       "      <td>884328</td>\n",
       "      <td>7</td>\n",
       "      <td>2013-02-28 15:08:24</td>\n",
       "    </tr>\n",
       "    <tr>\n",
       "      <th>311729</th>\n",
       "      <td>24531</td>\n",
       "      <td>1559547</td>\n",
       "      <td>9</td>\n",
       "      <td>2013-02-28 15:09:49</td>\n",
       "    </tr>\n",
       "    <tr>\n",
       "      <th>685123</th>\n",
       "      <td>53426</td>\n",
       "      <td>119167</td>\n",
       "      <td>6</td>\n",
       "      <td>2013-02-28 15:16:45</td>\n",
       "    </tr>\n",
       "    <tr>\n",
       "      <th>144688</th>\n",
       "      <td>11288</td>\n",
       "      <td>949731</td>\n",
       "      <td>5</td>\n",
       "      <td>2013-02-28 15:26:34</td>\n",
       "    </tr>\n",
       "    <tr>\n",
       "      <th>144626</th>\n",
       "      <td>11288</td>\n",
       "      <td>319343</td>\n",
       "      <td>6</td>\n",
       "      <td>2013-02-28 15:27:06</td>\n",
       "    </tr>\n",
       "    <tr>\n",
       "      <th>144696</th>\n",
       "      <td>11288</td>\n",
       "      <td>1068680</td>\n",
       "      <td>7</td>\n",
       "      <td>2013-02-28 15:28:25</td>\n",
       "    </tr>\n",
       "    <tr>\n",
       "      <th>312770</th>\n",
       "      <td>24649</td>\n",
       "      <td>376994</td>\n",
       "      <td>8</td>\n",
       "      <td>2013-02-28 15:39:07</td>\n",
       "    </tr>\n",
       "    <tr>\n",
       "      <th>449332</th>\n",
       "      <td>35009</td>\n",
       "      <td>1568338</td>\n",
       "      <td>2</td>\n",
       "      <td>2013-02-28 15:41:11</td>\n",
       "    </tr>\n",
       "    <tr>\n",
       "      <th>132395</th>\n",
       "      <td>10415</td>\n",
       "      <td>1853728</td>\n",
       "      <td>8</td>\n",
       "      <td>2013-02-28 15:41:53</td>\n",
       "    </tr>\n",
       "    <tr>\n",
       "      <th>823723</th>\n",
       "      <td>64696</td>\n",
       "      <td>1127715</td>\n",
       "      <td>7</td>\n",
       "      <td>2013-02-28 15:43:17</td>\n",
       "    </tr>\n",
       "    <tr>\n",
       "      <th>912920</th>\n",
       "      <td>71301</td>\n",
       "      <td>1790885</td>\n",
       "      <td>8</td>\n",
       "      <td>2013-02-28 15:45:00</td>\n",
       "    </tr>\n",
       "    <tr>\n",
       "      <th>641325</th>\n",
       "      <td>50219</td>\n",
       "      <td>889573</td>\n",
       "      <td>5</td>\n",
       "      <td>2013-02-28 15:48:53</td>\n",
       "    </tr>\n",
       "  </tbody>\n",
       "</table>\n",
       "</div>"
      ],
      "text/plain": [
       "        user_id  movie_id  rating    rating_timestamp\n",
       "147805    11639   2171847       6 2013-02-28 14:38:27\n",
       "613758    48189    444778       8 2013-02-28 14:43:44\n",
       "641371    50219   1411238       6 2013-02-28 14:47:18\n",
       "679235    52967   1496422       7 2013-02-28 14:58:23\n",
       "779780    61176    118799       5 2013-02-28 15:00:53\n",
       "779802    61176    338013       4 2013-02-28 15:04:39\n",
       "18077      1245   1003052       8 2013-02-28 15:05:06\n",
       "779723    61176     64665       8 2013-02-28 15:07:27\n",
       "280088    22092    884328       7 2013-02-28 15:08:24\n",
       "311729    24531   1559547       9 2013-02-28 15:09:49\n",
       "685123    53426    119167       6 2013-02-28 15:16:45\n",
       "144688    11288    949731       5 2013-02-28 15:26:34\n",
       "144626    11288    319343       6 2013-02-28 15:27:06\n",
       "144696    11288   1068680       7 2013-02-28 15:28:25\n",
       "312770    24649    376994       8 2013-02-28 15:39:07\n",
       "449332    35009   1568338       2 2013-02-28 15:41:11\n",
       "132395    10415   1853728       8 2013-02-28 15:41:53\n",
       "823723    64696   1127715       7 2013-02-28 15:43:17\n",
       "912920    71301   1790885       8 2013-02-28 15:45:00\n",
       "641325    50219    889573       5 2013-02-28 15:48:53"
      ]
     },
     "execution_count": 22,
     "metadata": {},
     "output_type": "execute_result"
    }
   ],
   "source": [
    "ratings.head(20)"
   ]
  },
  {
   "cell_type": "code",
   "execution_count": null,
   "id": "6fb8089b",
   "metadata": {},
   "outputs": [],
   "source": [
    "movies_rating = "
   ]
  }
 ],
 "metadata": {
  "kernelspec": {
   "display_name": "Python 3 (ipykernel)",
   "language": "python",
   "name": "python3"
  },
  "language_info": {
   "codemirror_mode": {
    "name": "ipython",
    "version": 3
   },
   "file_extension": ".py",
   "mimetype": "text/x-python",
   "name": "python",
   "nbconvert_exporter": "python",
   "pygments_lexer": "ipython3",
   "version": "3.9.13"
  }
 },
 "nbformat": 4,
 "nbformat_minor": 5
}
